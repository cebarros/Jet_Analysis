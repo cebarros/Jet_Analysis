{
 "cells": [
  {
   "cell_type": "markdown",
   "id": "3a70535a-340d-4e6c-a046-e4fbcb2912a0",
   "metadata": {
    "tags": []
   },
   "source": [
    "# Scaling QCD Jets with Coffea Processor"
   ]
  },
  {
   "cell_type": "code",
   "execution_count": 1,
   "id": "3f741e12-8a10-411c-9218-29a5d6d0c88c",
   "metadata": {
    "tags": []
   },
   "outputs": [],
   "source": [
    "import awkward as ak\n",
    "import numpy as np\n",
    "import coffea\n",
    "import uproot\n",
    "import hist\n",
    "import vector\n",
    "from coffea import util, processor\n",
    "from coffea.nanoevents import NanoEventsFactory, NanoAODSchema, BaseSchema\n",
    "from distributed.diagnostics.plugin import UploadDirectory\n",
    "import matplotlib.pyplot as plt\n",
    "from collections import defaultdict\n",
    "import os\n",
    "import pickle\n",
    "from coffea.analysis_tools import PackedSelection\n",
    "from dask.distributed import Client\n",
    "from smp_utils import *"
   ]
  },
  {
   "cell_type": "code",
   "execution_count": 2,
   "id": "ed44b94e-a4c1-4a4f-a6bf-32fe54d16a4c",
   "metadata": {
    "tags": []
   },
   "outputs": [],
   "source": [
    "class QCDProcessor(processor.ProcessorABC):\n",
    "        \n",
    "    def __init__(self):\n",
    "        \n",
    "        ###################################\n",
    "        ### Defining the Histogram Axes ###\n",
    "        ###################################\n",
    "        \n",
    "        binning = util_binning()\n",
    "        \n",
    "        dataset_axis = binning.dataset_axis\n",
    "        frac_axis = binning.frac_axis\n",
    "        eta_axis = binning.eta_axis\n",
    "        phi_axis = binning.phi_axis\n",
    "        pt_axis = binning.pt_axis\n",
    "        \n",
    "        #rho_axis = binning.rho_axis\n",
    "        #npvs_axis = binning.npvs_axis\n",
    "        #npu_axis = binning.npu_axis\n",
    "        \n",
    "        ######################################\n",
    "        ### Defining the Histogram Objects ###\n",
    "        ######################################\n",
    "        \n",
    "        h_responses_histogram = hist.Hist(dataset_axis, frac_axis)#, eta_axis, phi_axis, pt_axis)#, storage=\"weight\", label=\"Counts\")\n",
    "        #h_corrections_histogram = hist.Hist(dataset_axis, rho_axis, npvs_axis, npu_axis, storage=\"weight\", label=\"Counts\")\n",
    "                                         \n",
    "        cutflow = {}\n",
    "        \n",
    "        self.hists = {\n",
    "            \"responses_histogram\":h_responses_histogram,\n",
    "            #\"corrections_histogram\":h_corrections_histogram,\n",
    "            \"cutflow\":cutflow,\n",
    "        }\n",
    "        \n",
    "    @property\n",
    "    def accumulator(self):\n",
    "        return self.hists\n",
    "    \n",
    "    def process(self, events):\n",
    "        \n",
    "        dataset = events.metadata['dataset']\n",
    "        print(f\"Processing ----- {dataset}\")\n",
    "        if dataset not in self.hists[\"cutflow\"]:\n",
    "            self.hists[\"cutflow\"][dataset] = defaultdict(int)\n",
    "        \n",
    "        ####################################################\n",
    "        ### Applying Cuts to Jet Kinematic Distributions ###\n",
    "        ####################################################\n",
    "        \n",
    "        ### Vertex and JetId Masks\n",
    "        \n",
    "        vtx_mask = np.abs(events.GenVtx.z - events.PV.z) < 0.2\n",
    "\n",
    "        events = events[vtx_mask]\n",
    "        \n",
    "        id_mask = events.Jet.jetId > 0\n",
    "        events.Jet = events.Jet[id_mask]\n",
    "        events = events[ak.num(events.Jet, axis=1) > 0]\n",
    "        \n",
    "        ### Keeping three leading jets \n",
    "        \n",
    "        gen_jets = events.GenJet[:, :3]\n",
    "        reco_jets = gen_jets.nearest(events.Jet, threshold=0.2)\n",
    "        pt_response = reco_jets.pt /gen_jets.pt\n",
    "        \n",
    "        ### Final masks\n",
    "        \n",
    "        sel_1 = ~ak.is_none(reco_jets, axis=1)\n",
    "\n",
    "        reco_jets = reco_jets[sel_1]\n",
    "        gen_jets = gen_jets[sel_1]\n",
    "        pt_response = pt_response[sel_1]\n",
    "\n",
    "        sel_2 = ak.num(pt_response) > 2\n",
    "\n",
    "        reco_jets = reco_jets[sel_2]\n",
    "        gen_jets = gen_jets[sel_2]\n",
    "        pt_response = pt_response[sel_2]\n",
    "        pt_response = pt_response[pt_response <= 2]\n",
    "        \n",
    "        ###########################################\n",
    "        ### Applying Cuts to Pileup Observables ###\n",
    "        ###########################################\n",
    "        \n",
    "        ### Mask application\n",
    "        \n",
    "        #n_reco_vtx = events.PV.npvs\n",
    "        #n_pileup = events.Pileup.nPU\n",
    "        #rho = events.fixedGridRhoFastjetAll\n",
    "        #pu_nTrueInt = events.Pileup.nTrueInt\n",
    "        \n",
    "        #n_reco_vtx = n_reco_vtx[sel_2]\n",
    "        #n_pileup = n_pileup[sel_2]\n",
    "        #rho = rho[sel_2]\n",
    "        #pu_nTrueInt = pu_nTrueInt[sel_2]\n",
    "        \n",
    "        ### Broadcasting across reco_jets\n",
    "        \n",
    "        #n_reco_vtx = ak.broadcast_arrays(n_reco_vtx, reco_jets.pt)[0]\n",
    "        #n_pileup = ak.broadcast_arrays(n_pileup, reco_jets.pt)[0]\n",
    "        #rho = ak.broadcast_arrays(rho, reco_jets.pt)[0]\n",
    "        #pu_nTrueInt = ak.broadcast_arrays(pu_nTrueInt, reco_jets.pt)[0]\n",
    "        \n",
    "        ### Pileup Weights\n",
    "        \n",
    "        #puWeight = GetPUSF(dataset, np.array(ak.flatten(pu_nTrueInt)))\n",
    "        \n",
    "        ##############################\n",
    "        ### Filling the Histograms ###\n",
    "        ##############################\n",
    "        \n",
    "        self.hists[\"responses_histogram\"].fill(dataset=dataset, frac=ak.ravel(pt_response))#, eta=ak.ravel(gen_jets.eta), phi=ak.ravel(gen_jets.phi), pt=ak.ravel(gen_jets.pt))#, weight=puWeight)\n",
    "                                               \n",
    "        #self.hists[\"corrections_histogram\"].fill(dataset=dataset, npvs=ak.ravel(n_reco_vtx), npu=ak.ravel(n_pileup), rho=ak.ravel(rho), weight=puWeight)\n",
    "        \n",
    "        return self.hists\n",
    "    \n",
    "    def postprocess(self, accumulator):\n",
    "        return accumulator"
   ]
  },
  {
   "cell_type": "code",
   "execution_count": 3,
   "id": "151dabfd-a02f-4fa8-9adb-195c3e0729c8",
   "metadata": {
    "tags": []
   },
   "outputs": [
    {
     "data": {
      "application/vnd.jupyter.widget-view+json": {
       "model_id": "3d9fc0f987df48fba4a69878e0f3b0c3",
       "version_major": 2,
       "version_minor": 0
      },
      "text/plain": [
       "Output()"
      ]
     },
     "metadata": {},
     "output_type": "display_data"
    },
    {
     "name": "stderr",
     "output_type": "stream",
     "text": [
      "/opt/conda/lib/python3.9/site-packages/coffea/processor/executor.py:1360: UserWarning: XRootD error: [ERROR] Operation expired\n",
      "in file root://cmsxrootd.fnal.gov//store/mc/RunIISummer20UL16NanoAODAPVv9/QCD_Pt-15to7000_TuneCP5_Flat2018_13TeV_pythia8/NANOAODSIM/FlatPU0to75_106X_mcRun2_asymptotic_preVFP_v11-v1/130000/9E60AAAD-1494-AA4D-B596-D90933503361.root\n",
      "  warnings.warn(str(e))\n"
     ]
    },
    {
     "data": {
      "text/html": [
       "<pre style=\"white-space:pre;overflow-x:auto;line-height:normal;font-family:Menlo,'DejaVu Sans Mono',consolas,'Courier New',monospace\"></pre>\n"
      ],
      "text/plain": []
     },
     "metadata": {},
     "output_type": "display_data"
    },
    {
     "data": {
      "text/html": [
       "<pre style=\"white-space:pre;overflow-x:auto;line-height:normal;font-family:Menlo,'DejaVu Sans Mono',consolas,'Courier New',monospace\">\n",
       "</pre>\n"
      ],
      "text/plain": [
       "\n"
      ]
     },
     "metadata": {},
     "output_type": "display_data"
    },
    {
     "data": {
      "application/vnd.jupyter.widget-view+json": {
       "model_id": "6f8dd55483a14dc4b9e2c4cc2ad686b7",
       "version_major": 2,
       "version_minor": 0
      },
      "text/plain": [
       "Output()"
      ]
     },
     "metadata": {},
     "output_type": "display_data"
    },
    {
     "name": "stdout",
     "output_type": "stream",
     "text": [
      "Processing ----- 2016\n",
      "Processing ----- 2016\n",
      "Processing ----- 2016\n",
      "Processing ----- 2016\n",
      "Processing ----- 2016\n",
      "Processing ----- 2016\n",
      "Processing ----- 2016\n",
      "Processing ----- 2016\n",
      "Processing ----- 2016\n",
      "Processing ----- 2016\n",
      "Processing ----- 2016\n",
      "Processing ----- 2016\n",
      "Processing ----- 2016\n",
      "Processing ----- 2016\n",
      "Processing ----- 2016\n",
      "Processing ----- 2016\n",
      "Processing ----- 2016\n",
      "Processing ----- 2016\n",
      "Processing ----- 2016\n",
      "Processing ----- 2016\n",
      "Processing ----- 2016\n",
      "Processing ----- 2016\n",
      "Processing ----- 2016\n",
      "Processing ----- 2016\n",
      "Processing ----- 2016\n",
      "Processing ----- 2016\n",
      "Processing ----- 2016\n",
      "Processing ----- 2016\n",
      "Processing ----- 2016\n",
      "Processing ----- 2016\n",
      "Processing ----- 2016\n",
      "Processing ----- 2016\n",
      "Processing ----- 2016\n",
      "Processing ----- 2016\n",
      "Processing ----- 2016\n",
      "Processing ----- 2016\n",
      "Processing ----- 2016\n",
      "Processing ----- 2016\n",
      "Processing ----- 2016\n",
      "Processing ----- 2016\n",
      "Processing ----- 2016\n",
      "Processing ----- 2016\n",
      "Processing ----- 2016\n",
      "Processing ----- 2016\n",
      "Processing ----- 2016\n",
      "Processing ----- 2016\n",
      "Processing ----- 2016\n",
      "Processing ----- 2016\n",
      "Processing ----- 2016\n",
      "Processing ----- 2016\n",
      "Processing ----- 2016\n",
      "Processing ----- 2016\n",
      "Processing ----- 2016\n",
      "Processing ----- 2016\n",
      "Processing ----- 2016\n",
      "Processing ----- 2016\n",
      "Processing ----- 2016\n",
      "Processing ----- 2016\n",
      "Processing ----- 2016\n",
      "Processing ----- 2016\n",
      "Processing ----- 2016\n",
      "Processing ----- 2016\n",
      "Processing ----- 2016\n",
      "Processing ----- 2016\n",
      "Processing ----- 2016\n",
      "Processing ----- 2016\n",
      "Processing ----- 2016\n",
      "Processing ----- 2016\n",
      "Processing ----- 2016\n",
      "Processing ----- 2016\n",
      "Processing ----- 2016\n",
      "Processing ----- 2016\n",
      "Processing ----- 2016\n",
      "Processing ----- 2016\n",
      "Processing ----- 2016\n",
      "Processing ----- 2016\n",
      "Processing ----- 2016\n",
      "Processing ----- 2016\n",
      "Processing ----- 2016\n",
      "Processing ----- 2016\n",
      "Processing ----- 2016\n",
      "Processing ----- 2016\n",
      "Processing ----- 2016\n"
     ]
    },
    {
     "name": "stderr",
     "output_type": "stream",
     "text": [
      "/opt/conda/lib/python3.9/site-packages/coffea/processor/executor.py:1360: UserWarning: XRootD error: [ERROR] Operation expired\n",
      "in file root://cmsxrootd.fnal.gov//store/mc/RunIISummer20UL16NanoAODAPVv9/QCD_Pt-15to7000_TuneCP5_Flat2018_13TeV_pythia8/NANOAODSIM/FlatPU0to75_106X_mcRun2_asymptotic_preVFP_v11-v1/130000/A7CB57FE-3CB7-7948-BC8C-9CC683446AC3.root\n",
      "  warnings.warn(str(e))\n"
     ]
    },
    {
     "name": "stdout",
     "output_type": "stream",
     "text": [
      "Processing ----- 2016\n",
      "Processing ----- 2016\n",
      "Processing ----- 2016\n",
      "Processing ----- 2016\n",
      "Processing ----- 2016\n",
      "Processing ----- 2016\n",
      "Processing ----- 2016\n",
      "Processing ----- 2016\n",
      "Processing ----- 2016\n",
      "Processing ----- 2016\n",
      "Processing ----- 2016\n",
      "Processing ----- 2016\n"
     ]
    },
    {
     "name": "stderr",
     "output_type": "stream",
     "text": [
      "/opt/conda/lib/python3.9/site-packages/coffea/processor/executor.py:1345: UserWarning: Failed processing file: WorkItem(dataset='2016', filename='root://cmsxrootd.fnal.gov//store/mc/RunIISummer20UL16NanoAODAPVv9/QCD_Pt-15to7000_TuneCP5_Flat2018_13TeV_pythia8/NANOAODSIM/FlatPU0to75_106X_mcRun2_asymptotic_preVFP_v11-v1/130000/545C11BC-6D60-BE4D-A7CC-6B43DE90DA34.root', treename='Events', entrystart=825600, entrystop=928800, fileuuid=b'\\xb8\\xa8\\x8a\\x8e\\xf1\\x8d\\x11\\xeb\\x95\\xb5\\x10\\xbd\\xe1\\x83\\xbe\\xef', usermeta={})\n",
      "  warnings.warn(str(e))\n"
     ]
    },
    {
     "name": "stdout",
     "output_type": "stream",
     "text": [
      "Processing ----- 2016\n",
      "Processing ----- 2016\n",
      "Processing ----- 2016\n",
      "Processing ----- 2016\n",
      "Processing ----- 2016\n",
      "Processing ----- 2016\n",
      "Processing ----- 2016\n",
      "Processing ----- 2016\n",
      "Processing ----- 2016\n",
      "Processing ----- 2016\n",
      "Processing ----- 2016\n",
      "Processing ----- 2016\n",
      "Processing ----- 2016\n",
      "Processing ----- 2016\n",
      "Processing ----- 2016\n",
      "Processing ----- 2016\n",
      "Processing ----- 2016\n",
      "Processing ----- 2016\n",
      "Processing ----- 2016\n",
      "Processing ----- 2016\n",
      "Processing ----- 2016\n",
      "Processing ----- 2016\n",
      "Processing ----- 2016\n",
      "Processing ----- 2016\n",
      "Processing ----- 2016\n",
      "Processing ----- 2016\n",
      "Processing ----- 2016\n",
      "Processing ----- 2016\n",
      "Processing ----- 2016\n",
      "Processing ----- 2016\n",
      "Processing ----- 2016\n",
      "Processing ----- 2016\n"
     ]
    },
    {
     "name": "stderr",
     "output_type": "stream",
     "text": [
      "/opt/conda/lib/python3.9/site-packages/coffea/processor/executor.py:1345: UserWarning: Failed processing file: WorkItem(dataset='2016', filename='root://cmsxrootd.fnal.gov//store/mc/RunIISummer20UL16NanoAODAPVv9/QCD_Pt-15to7000_TuneCP5_Flat2018_13TeV_pythia8/NANOAODSIM/FlatPU0to75_106X_mcRun2_asymptotic_preVFP_v11-v1/130000/0A296527-61FE-DD4A-8C53-1D54AB8D9099.root', treename='Events', entrystart=0, entrystop=113850, fileuuid=b'\\xaef|.\\xee_\\x11\\xeb\\xa5\\xe5\\xef\\xbd\\xe1\\x83\\xbe\\xef', usermeta={})\n",
      "  warnings.warn(str(e))\n"
     ]
    },
    {
     "name": "stdout",
     "output_type": "stream",
     "text": [
      "Processing ----- 2016\n",
      "Processing ----- 2016\n",
      "Processing ----- 2016\n",
      "Processing ----- 2016\n",
      "Processing ----- 2016\n",
      "Processing ----- 2016\n",
      "Processing ----- 2016\n",
      "Processing ----- 2016\n",
      "Processing ----- 2016\n",
      "Processing ----- 2016\n",
      "Processing ----- 2016\n",
      "Processing ----- 2016\n",
      "Processing ----- 2016\n",
      "Processing ----- 2016\n",
      "Processing ----- 2016\n",
      "Processing ----- 2016\n",
      "Processing ----- 2016\n",
      "Processing ----- 2016\n",
      "Processing ----- 2016\n",
      "Processing ----- 2016\n",
      "Processing ----- 2016\n",
      "Processing ----- 2016\n",
      "Processing ----- 2016\n",
      "Processing ----- 2016\n",
      "Processing ----- 2016\n",
      "Processing ----- 2016\n",
      "Processing ----- 2016\n",
      "Processing ----- 2016\n",
      "Processing ----- 2016\n"
     ]
    },
    {
     "data": {
      "text/html": [
       "<pre style=\"white-space:pre;overflow-x:auto;line-height:normal;font-family:Menlo,'DejaVu Sans Mono',consolas,'Courier New',monospace\"></pre>\n"
      ],
      "text/plain": []
     },
     "metadata": {},
     "output_type": "display_data"
    },
    {
     "data": {
      "text/html": [
       "<pre style=\"white-space:pre;overflow-x:auto;line-height:normal;font-family:Menlo,'DejaVu Sans Mono',consolas,'Courier New',monospace\">\n",
       "</pre>\n"
      ],
      "text/plain": [
       "\n"
      ]
     },
     "metadata": {},
     "output_type": "display_data"
    }
   ],
   "source": [
    "prependstr = \"root://cmsxrootd.fnal.gov/\"\n",
    "#prependstr = \"root://xcache/\"\n",
    "\n",
    "filedir = \"samples/\"\n",
    "\n",
    "filestr = \"flatPU_JMENano_%s.txt\"\n",
    "\n",
    "eras = ['2016']#, '2017', '2018']\n",
    "\n",
    "fileset = {}\n",
    "\n",
    "for era in eras:\n",
    "    filename = filedir + filestr % (era)\n",
    "    with open(filename) as f:\n",
    "        files = [prependstr + i.rstrip() for i in f.readlines() if i[0] != \"#\"]\n",
    "        fileset[era] = files\n",
    "\n",
    "#client = Client(\"tls://192.168.55.113:8786\")\n",
    "        \n",
    "run = processor.Runner(\n",
    "    executor=processor.FuturesExecutor(compression=None, workers=4),\n",
    "    schema=NanoAODSchema,\n",
    "    skipbadfiles=True,\n",
    ")\n",
    "\n",
    "#run = processor.Runner(\n",
    "#    executor = processor.DaskExecutor(client=client),\n",
    "#    schema=NanoAODSchema,\n",
    "#    chunksize = 1000000,\n",
    "#    maxchunks = None,\n",
    "#    skipbadfiles=True\n",
    "#)\n",
    "\n",
    "out = run(\n",
    "    fileset=fileset,\n",
    "    treename=\"Events\",\n",
    "    processor_instance=QCDProcessor()\n",
    ")\n",
    "\n",
    "fname_out = \"pkl_files/QCD_pt_response_NEW.pkl\"\n",
    "\n",
    "with open(fname_out, \"wb\") as f:\n",
    "    pickle.dump(out, f)"
   ]
  },
  {
   "cell_type": "code",
   "execution_count": null,
   "id": "5a76707e-a606-46d1-bf10-7d391cef81cc",
   "metadata": {},
   "outputs": [],
   "source": []
  }
 ],
 "metadata": {
  "kernelspec": {
   "display_name": "Python 3 (ipykernel)",
   "language": "python",
   "name": "python3"
  },
  "language_info": {
   "codemirror_mode": {
    "name": "ipython",
    "version": 3
   },
   "file_extension": ".py",
   "mimetype": "text/x-python",
   "name": "python",
   "nbconvert_exporter": "python",
   "pygments_lexer": "ipython3",
   "version": "3.9.18"
  }
 },
 "nbformat": 4,
 "nbformat_minor": 5
}
