{
 "cells": [
  {
   "cell_type": "markdown",
   "id": "3a70535a-340d-4e6c-a046-e4fbcb2912a0",
   "metadata": {
    "tags": []
   },
   "source": [
    "# Scaling QCD Jets with Coffea Processor"
   ]
  },
  {
   "cell_type": "code",
   "execution_count": null,
   "id": "3f741e12-8a10-411c-9218-29a5d6d0c88c",
   "metadata": {
    "tags": []
   },
   "outputs": [],
   "source": [
    "import awkward as ak\n",
    "import numpy as np\n",
    "import coffea\n",
    "import uproot\n",
    "import hist\n",
    "import vector\n",
    "from coffea import util, processor\n",
    "from coffea.nanoevents import NanoEventsFactory, NanoAODSchema, BaseSchema\n",
    "from distributed.diagnostics.plugin import UploadDirectory\n",
    "import matplotlib.pyplot as plt\n",
    "from collections import defaultdict\n",
    "import os\n",
    "import pickle"
   ]
  },
  {
   "cell_type": "code",
   "execution_count": null,
   "id": "bbe47590-7197-48fc-8fab-e20254ef9cea",
   "metadata": {
    "tags": []
   },
   "outputs": [],
   "source": [
    "%load_ext autoreload\n",
    "%autoreload 2"
   ]
  },
  {
   "cell_type": "code",
   "execution_count": null,
   "id": "89a4cd40-2dbe-465d-851b-faedb06b2222",
   "metadata": {
    "tags": []
   },
   "outputs": [],
   "source": [
    "from smp_utils import *\n",
    "from histogram_lib import *\n",
    "from histogram_maker import *"
   ]
  },
  {
   "cell_type": "code",
   "execution_count": null,
   "id": "adc8c4b1-8720-4611-a0f3-2a7be6255a23",
   "metadata": {
    "tags": []
   },
   "outputs": [],
   "source": [
    "#qcd_jets_maker()\n",
    "qcd_jets_maker(prependstr = \"root://cmsxrootd.fnal.gov/\")"
   ]
  },
  {
   "cell_type": "code",
   "execution_count": null,
   "id": "7615b617-b60f-421d-843c-8e06d7a0bf9d",
   "metadata": {
    "tags": []
   },
   "outputs": [],
   "source": [
    "with open(\"pkl_files/QCD_pt_response_NEW.pkl\", \"rb\") as f:\n",
    "    out = pickle.load(f)\n",
    "    \n",
    "for k,v in out.items():\n",
    "    print(k)\n",
    "    #print(f\"{v}\\n\")"
   ]
  },
  {
   "cell_type": "code",
   "execution_count": null,
   "id": "67f845ec-53ce-492d-9f88-3f07ed8d986b",
   "metadata": {
    "tags": []
   },
   "outputs": [],
   "source": [
    "out[\"responses_histogram\"].project(\"dataset\", \"frac\").plot(density=True)"
   ]
  },
  {
   "cell_type": "code",
   "execution_count": null,
   "id": "3f782cff-6d56-417e-8c8b-893d760d03a9",
   "metadata": {},
   "outputs": [],
   "source": []
  }
 ],
 "metadata": {
  "kernelspec": {
   "display_name": "Python 3 (ipykernel)",
   "language": "python",
   "name": "python3"
  },
  "language_info": {
   "codemirror_mode": {
    "name": "ipython",
    "version": 3
   },
   "file_extension": ".py",
   "mimetype": "text/x-python",
   "name": "python",
   "nbconvert_exporter": "python",
   "pygments_lexer": "ipython3",
   "version": "3.9.18"
  }
 },
 "nbformat": 4,
 "nbformat_minor": 5
}
